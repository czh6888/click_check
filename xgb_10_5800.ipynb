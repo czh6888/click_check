{
 "cells": [
  {
   "cell_type": "code",
   "execution_count": null,
   "metadata": {
    "collapsed": false
   },
   "outputs": [
    {
     "name": "stdout",
     "output_type": "stream",
     "text": [
      "data101280\r\n"
     ]
    }
   ],
   "source": [
    "# 查看当前挂载的数据集目录, 该目录下的变更重启环境后会自动还原\n",
    "# View dataset directory. \n",
    "# This directory will be recovered automatically after resetting environment. \n",
    "!ls /home/aistudio/data"
   ]
  },
  {
   "cell_type": "code",
   "execution_count": null,
   "metadata": {
    "collapsed": false
   },
   "outputs": [],
   "source": [
    "# 查看工作区文件, 该目录下的变更将会持久保存. 请及时清理不必要的文件, 避免加载过慢.\n",
    "# View personal work directory. \n",
    "# All changes under this directory will be kept even after reset. \n",
    "# Please clean unnecessary files in time to speed up environment loading. \n",
    "!ls /home/aistudio/work"
   ]
  },
  {
   "cell_type": "code",
   "execution_count": null,
   "metadata": {
    "collapsed": false
   },
   "outputs": [],
   "source": [
    "# 如果需要进行持久化安装, 需要使用持久化路径, 如下方代码示例:\n",
    "# If a persistence installation is required, \n",
    "# you need to use the persistence path as the following: \n",
    "# !mkdir /home/aistudio/external-libraries\n",
    "# !pip install beautifulsoup4 -t /home/aistudio/external-libraries"
   ]
  },
  {
   "cell_type": "code",
   "execution_count": null,
   "metadata": {
    "collapsed": false
   },
   "outputs": [],
   "source": [
    "# 同时添加如下代码, 这样每次环境(kernel)启动的时候只要运行下方代码即可: \n",
    "# Also add the following code, \n",
    "# so that every time the environment (kernel) starts, \n",
    "# just run the following code: \n",
    "import sys \n",
    "sys.path.append('/home/aistudio/external-libraries')"
   ]
  },
  {
   "cell_type": "code",
   "execution_count": null,
   "metadata": {
    "collapsed": false
   },
   "outputs": [
    {
     "data": {
      "text/html": [
       "<style type='text/css'>\n",
       ".datatable table.frame { margin-bottom: 0; }\n",
       ".datatable table.frame thead { border-bottom: none; }\n",
       ".datatable table.frame tr.coltypes td {  color: #FFFFFF;  line-height: 6px;  padding: 0 0.5em;}\n",
       ".datatable .bool    { background: #DDDD99; }\n",
       ".datatable .object  { background: #565656; }\n",
       ".datatable .int     { background: #5D9E5D; }\n",
       ".datatable .float   { background: #4040CC; }\n",
       ".datatable .str     { background: #CC4040; }\n",
       ".datatable .row_index {  background: var(--jp-border-color3);  border-right: 1px solid var(--jp-border-color0);  color: var(--jp-ui-font-color3);  font-size: 9px;}\n",
       ".datatable .frame tr.coltypes .row_index {  background: var(--jp-border-color0);}\n",
       ".datatable th:nth-child(2) { padding-left: 12px; }\n",
       ".datatable .hellipsis {  color: var(--jp-cell-editor-border-color);}\n",
       ".datatable .vellipsis {  background: var(--jp-layout-color0);  color: var(--jp-cell-editor-border-color);}\n",
       ".datatable .na {  color: var(--jp-cell-editor-border-color);  font-size: 80%;}\n",
       ".datatable .footer { font-size: 9px; }\n",
       ".datatable .frame_dimensions {  background: var(--jp-border-color3);  border-top: 1px solid var(--jp-border-color0);  color: var(--jp-ui-font-color3);  display: inline-block;  opacity: 0.6;  padding: 1px 10px 1px 5px;}\n",
       "</style>\n"
      ],
      "text/plain": [
       "<IPython.core.display.HTML object>"
      ]
     },
     "metadata": {},
     "output_type": "display_data"
    }
   ],
   "source": [
    "#初始化环境,导包\r\n",
    "\r\n",
    "# 忽视警告\r\n",
    "import warnings\r\n",
    "warnings.filterwarnings('ignore')\r\n",
    "# 多行展示\r\n",
    "from IPython.core.interactiveshell import InteractiveShell\r\n",
    "InteractiveShell.ast_node_interactivity = 'all'\r\n",
    "# pandas/numpy 工具包\r\n",
    "import numpy as np\r\n",
    "import pandas as pd\r\n",
    "import matplotlib.pyplot as plt\r\n",
    "# K折交叉验证\r\n",
    "import sklearn\r\n",
    "from sklearn.model_selection import KFold, StratifiedKFold\r\n",
    "from sklearn.metrics import accuracy_score\r\n",
    "# XGboost模型\r\n",
    "import xgboost as xgb\r\n",
    "from xgboost import plot_importance\r\n",
    "# LGBM模型\r\n",
    "import lightgbm as lgb"
   ]
  },
  {
   "cell_type": "code",
   "execution_count": null,
   "metadata": {
    "collapsed": false
   },
   "outputs": [],
   "source": [
    "# 读取数据集\r\n",
    "train = pd.read_csv('./data/data101280/train.csv')\r\n",
    "test = pd.read_csv('./data/data101280/test1.csv')"
   ]
  },
  {
   "cell_type": "code",
   "execution_count": null,
   "metadata": {
    "collapsed": false
   },
   "outputs": [],
   "source": [
    "# 除去原有序列号, 划分X, y, X_test\r\n",
    "X = train.iloc[:, 1:].drop(['label'], axis=1)\r\n",
    "y = train['label']\r\n",
    "X_test  = test.iloc[:, 1:]"
   ]
  },
  {
   "cell_type": "code",
   "execution_count": null,
   "metadata": {
    "collapsed": false
   },
   "outputs": [
    {
     "data": {
      "text/html": [
       "<div>\n",
       "<style scoped>\n",
       "    .dataframe tbody tr th:only-of-type {\n",
       "        vertical-align: middle;\n",
       "    }\n",
       "\n",
       "    .dataframe tbody tr th {\n",
       "        vertical-align: top;\n",
       "    }\n",
       "\n",
       "    .dataframe thead th {\n",
       "        text-align: right;\n",
       "    }\n",
       "</style>\n",
       "<table border=\"1\" class=\"dataframe\">\n",
       "  <thead>\n",
       "    <tr style=\"text-align: right;\">\n",
       "      <th></th>\n",
       "      <th>android_id</th>\n",
       "      <th>apptype</th>\n",
       "      <th>carrier</th>\n",
       "      <th>dev_height</th>\n",
       "      <th>dev_ppi</th>\n",
       "      <th>dev_width</th>\n",
       "      <th>lan</th>\n",
       "      <th>media_id</th>\n",
       "      <th>ntt</th>\n",
       "      <th>os</th>\n",
       "      <th>osv</th>\n",
       "      <th>package</th>\n",
       "      <th>sid</th>\n",
       "      <th>timestamp</th>\n",
       "      <th>version</th>\n",
       "      <th>fea_hash</th>\n",
       "      <th>location</th>\n",
       "      <th>fea1_hash</th>\n",
       "      <th>cus_type</th>\n",
       "    </tr>\n",
       "  </thead>\n",
       "  <tbody>\n",
       "    <tr>\n",
       "      <th>0</th>\n",
       "      <td>316361</td>\n",
       "      <td>1199</td>\n",
       "      <td>46000.0</td>\n",
       "      <td>0.0</td>\n",
       "      <td>0.0</td>\n",
       "      <td>0.0</td>\n",
       "      <td>NaN</td>\n",
       "      <td>104</td>\n",
       "      <td>6.0</td>\n",
       "      <td>android</td>\n",
       "      <td>9</td>\n",
       "      <td>18</td>\n",
       "      <td>1438873</td>\n",
       "      <td>1.559893e+12</td>\n",
       "      <td>8</td>\n",
       "      <td>2135019403</td>\n",
       "      <td>0</td>\n",
       "      <td>2329670524</td>\n",
       "      <td>601</td>\n",
       "    </tr>\n",
       "    <tr>\n",
       "      <th>1</th>\n",
       "      <td>135939</td>\n",
       "      <td>893</td>\n",
       "      <td>0.0</td>\n",
       "      <td>0.0</td>\n",
       "      <td>0.0</td>\n",
       "      <td>0.0</td>\n",
       "      <td>NaN</td>\n",
       "      <td>19</td>\n",
       "      <td>6.0</td>\n",
       "      <td>android</td>\n",
       "      <td>8.1</td>\n",
       "      <td>0</td>\n",
       "      <td>1185582</td>\n",
       "      <td>1.559994e+12</td>\n",
       "      <td>4</td>\n",
       "      <td>2782306428</td>\n",
       "      <td>1</td>\n",
       "      <td>2864801071</td>\n",
       "      <td>1000</td>\n",
       "    </tr>\n",
       "    <tr>\n",
       "      <th>2</th>\n",
       "      <td>399254</td>\n",
       "      <td>821</td>\n",
       "      <td>0.0</td>\n",
       "      <td>760.0</td>\n",
       "      <td>0.0</td>\n",
       "      <td>360.0</td>\n",
       "      <td>NaN</td>\n",
       "      <td>559</td>\n",
       "      <td>0.0</td>\n",
       "      <td>android</td>\n",
       "      <td>8.1.0</td>\n",
       "      <td>0</td>\n",
       "      <td>1555716</td>\n",
       "      <td>1.559837e+12</td>\n",
       "      <td>0</td>\n",
       "      <td>1392806005</td>\n",
       "      <td>2</td>\n",
       "      <td>628911675</td>\n",
       "      <td>696</td>\n",
       "    </tr>\n",
       "    <tr>\n",
       "      <th>3</th>\n",
       "      <td>68983</td>\n",
       "      <td>1004</td>\n",
       "      <td>46000.0</td>\n",
       "      <td>2214.0</td>\n",
       "      <td>0.0</td>\n",
       "      <td>1080.0</td>\n",
       "      <td>NaN</td>\n",
       "      <td>129</td>\n",
       "      <td>2.0</td>\n",
       "      <td>android</td>\n",
       "      <td>8.1.0</td>\n",
       "      <td>0</td>\n",
       "      <td>1093419</td>\n",
       "      <td>1.560042e+12</td>\n",
       "      <td>0</td>\n",
       "      <td>3562553457</td>\n",
       "      <td>3</td>\n",
       "      <td>1283809327</td>\n",
       "      <td>753</td>\n",
       "    </tr>\n",
       "    <tr>\n",
       "      <th>4</th>\n",
       "      <td>288999</td>\n",
       "      <td>1076</td>\n",
       "      <td>46000.0</td>\n",
       "      <td>2280.0</td>\n",
       "      <td>0.0</td>\n",
       "      <td>1080.0</td>\n",
       "      <td>zh-CN</td>\n",
       "      <td>64</td>\n",
       "      <td>2.0</td>\n",
       "      <td>android</td>\n",
       "      <td>8.0.0</td>\n",
       "      <td>0</td>\n",
       "      <td>1400089</td>\n",
       "      <td>1.559867e+12</td>\n",
       "      <td>5</td>\n",
       "      <td>2364522023</td>\n",
       "      <td>4</td>\n",
       "      <td>1510695983</td>\n",
       "      <td>582</td>\n",
       "    </tr>\n",
       "  </tbody>\n",
       "</table>\n",
       "</div>"
      ],
      "text/plain": [
       "   android_id  apptype  carrier  dev_height  dev_ppi  dev_width    lan  \\\n",
       "0      316361     1199  46000.0         0.0      0.0        0.0    NaN   \n",
       "1      135939      893      0.0         0.0      0.0        0.0    NaN   \n",
       "2      399254      821      0.0       760.0      0.0      360.0    NaN   \n",
       "3       68983     1004  46000.0      2214.0      0.0     1080.0    NaN   \n",
       "4      288999     1076  46000.0      2280.0      0.0     1080.0  zh-CN   \n",
       "\n",
       "   media_id  ntt       os    osv  package      sid     timestamp version  \\\n",
       "0       104  6.0  android      9       18  1438873  1.559893e+12       8   \n",
       "1        19  6.0  android    8.1        0  1185582  1.559994e+12       4   \n",
       "2       559  0.0  android  8.1.0        0  1555716  1.559837e+12       0   \n",
       "3       129  2.0  android  8.1.0        0  1093419  1.560042e+12       0   \n",
       "4        64  2.0  android  8.0.0        0  1400089  1.559867e+12       5   \n",
       "\n",
       "     fea_hash  location   fea1_hash  cus_type  \n",
       "0  2135019403         0  2329670524       601  \n",
       "1  2782306428         1  2864801071      1000  \n",
       "2  1392806005         2   628911675       696  \n",
       "3  3562553457         3  1283809327       753  \n",
       "4  2364522023         4  1510695983       582  "
      ]
     },
     "execution_count": null,
     "metadata": {},
     "output_type": "execute_result"
    },
    {
     "name": "stdout",
     "output_type": "stream",
     "text": [
      "y.head() ------------------------------------------------------------------------------------------------------------------------\n"
     ]
    },
    {
     "data": {
      "text/plain": [
       "0    1\n",
       "1    1\n",
       "2    1\n",
       "3    0\n",
       "4    1\n",
       "Name: label, dtype: int64"
      ]
     },
     "execution_count": null,
     "metadata": {},
     "output_type": "execute_result"
    },
    {
     "name": "stdout",
     "output_type": "stream",
     "text": [
      "X_test.head() ------------------------------------------------------------------------------------------------------------------------\n"
     ]
    },
    {
     "data": {
      "text/html": [
       "<div>\n",
       "<style scoped>\n",
       "    .dataframe tbody tr th:only-of-type {\n",
       "        vertical-align: middle;\n",
       "    }\n",
       "\n",
       "    .dataframe tbody tr th {\n",
       "        vertical-align: top;\n",
       "    }\n",
       "\n",
       "    .dataframe thead th {\n",
       "        text-align: right;\n",
       "    }\n",
       "</style>\n",
       "<table border=\"1\" class=\"dataframe\">\n",
       "  <thead>\n",
       "    <tr style=\"text-align: right;\">\n",
       "      <th></th>\n",
       "      <th>android_id</th>\n",
       "      <th>apptype</th>\n",
       "      <th>carrier</th>\n",
       "      <th>dev_height</th>\n",
       "      <th>dev_ppi</th>\n",
       "      <th>dev_width</th>\n",
       "      <th>lan</th>\n",
       "      <th>media_id</th>\n",
       "      <th>ntt</th>\n",
       "      <th>os</th>\n",
       "      <th>osv</th>\n",
       "      <th>package</th>\n",
       "      <th>sid</th>\n",
       "      <th>timestamp</th>\n",
       "      <th>version</th>\n",
       "      <th>fea_hash</th>\n",
       "      <th>location</th>\n",
       "      <th>fea1_hash</th>\n",
       "      <th>cus_type</th>\n",
       "    </tr>\n",
       "  </thead>\n",
       "  <tbody>\n",
       "    <tr>\n",
       "      <th>0</th>\n",
       "      <td>317625</td>\n",
       "      <td>1181</td>\n",
       "      <td>46000.0</td>\n",
       "      <td>2196.0</td>\n",
       "      <td>2.0</td>\n",
       "      <td>1080.0</td>\n",
       "      <td>CN</td>\n",
       "      <td>639</td>\n",
       "      <td>2.0</td>\n",
       "      <td>Android</td>\n",
       "      <td>8.1.0</td>\n",
       "      <td>188</td>\n",
       "      <td>1440682</td>\n",
       "      <td>1.559872e+12</td>\n",
       "      <td>7</td>\n",
       "      <td>1672223856</td>\n",
       "      <td>57</td>\n",
       "      <td>3872258917</td>\n",
       "      <td>658</td>\n",
       "    </tr>\n",
       "    <tr>\n",
       "      <th>1</th>\n",
       "      <td>435108</td>\n",
       "      <td>944</td>\n",
       "      <td>46003.0</td>\n",
       "      <td>2280.0</td>\n",
       "      <td>3.0</td>\n",
       "      <td>1080.0</td>\n",
       "      <td>zh-CN</td>\n",
       "      <td>704</td>\n",
       "      <td>6.0</td>\n",
       "      <td>Android</td>\n",
       "      <td>8.1.0</td>\n",
       "      <td>221</td>\n",
       "      <td>1606824</td>\n",
       "      <td>1.559739e+12</td>\n",
       "      <td>3</td>\n",
       "      <td>3767901757</td>\n",
       "      <td>23</td>\n",
       "      <td>129322164</td>\n",
       "      <td>943</td>\n",
       "    </tr>\n",
       "    <tr>\n",
       "      <th>2</th>\n",
       "      <td>0</td>\n",
       "      <td>1106</td>\n",
       "      <td>46000.0</td>\n",
       "      <td>0.0</td>\n",
       "      <td>0.0</td>\n",
       "      <td>0.0</td>\n",
       "      <td>NaN</td>\n",
       "      <td>39</td>\n",
       "      <td>2.0</td>\n",
       "      <td>android</td>\n",
       "      <td>5.1</td>\n",
       "      <td>1562</td>\n",
       "      <td>1774642</td>\n",
       "      <td>1.559614e+12</td>\n",
       "      <td>0</td>\n",
       "      <td>454638703</td>\n",
       "      <td>30</td>\n",
       "      <td>4226678391</td>\n",
       "      <td>411</td>\n",
       "    </tr>\n",
       "    <tr>\n",
       "      <th>3</th>\n",
       "      <td>451504</td>\n",
       "      <td>761</td>\n",
       "      <td>46000.0</td>\n",
       "      <td>1344.0</td>\n",
       "      <td>0.0</td>\n",
       "      <td>720.0</td>\n",
       "      <td>NaN</td>\n",
       "      <td>54</td>\n",
       "      <td>2.0</td>\n",
       "      <td>android</td>\n",
       "      <td>7.1.1</td>\n",
       "      <td>9</td>\n",
       "      <td>1742535</td>\n",
       "      <td>1.559668e+12</td>\n",
       "      <td>0</td>\n",
       "      <td>1507622951</td>\n",
       "      <td>65</td>\n",
       "      <td>3355419572</td>\n",
       "      <td>848</td>\n",
       "    </tr>\n",
       "    <tr>\n",
       "      <th>4</th>\n",
       "      <td>0</td>\n",
       "      <td>1001</td>\n",
       "      <td>46000.0</td>\n",
       "      <td>665.0</td>\n",
       "      <td>0.0</td>\n",
       "      <td>320.0</td>\n",
       "      <td>zh-CN</td>\n",
       "      <td>29</td>\n",
       "      <td>5.0</td>\n",
       "      <td>Android</td>\n",
       "      <td>8.1.0</td>\n",
       "      <td>4</td>\n",
       "      <td>1689686</td>\n",
       "      <td>1.559694e+12</td>\n",
       "      <td>0</td>\n",
       "      <td>4116351093</td>\n",
       "      <td>148</td>\n",
       "      <td>2644467751</td>\n",
       "      <td>411</td>\n",
       "    </tr>\n",
       "  </tbody>\n",
       "</table>\n",
       "</div>"
      ],
      "text/plain": [
       "   android_id  apptype  carrier  dev_height  dev_ppi  dev_width    lan  \\\n",
       "0      317625     1181  46000.0      2196.0      2.0     1080.0     CN   \n",
       "1      435108      944  46003.0      2280.0      3.0     1080.0  zh-CN   \n",
       "2           0     1106  46000.0         0.0      0.0        0.0    NaN   \n",
       "3      451504      761  46000.0      1344.0      0.0      720.0    NaN   \n",
       "4           0     1001  46000.0       665.0      0.0      320.0  zh-CN   \n",
       "\n",
       "   media_id  ntt       os    osv  package      sid     timestamp version  \\\n",
       "0       639  2.0  Android  8.1.0      188  1440682  1.559872e+12       7   \n",
       "1       704  6.0  Android  8.1.0      221  1606824  1.559739e+12       3   \n",
       "2        39  2.0  android    5.1     1562  1774642  1.559614e+12       0   \n",
       "3        54  2.0  android  7.1.1        9  1742535  1.559668e+12       0   \n",
       "4        29  5.0  Android  8.1.0        4  1689686  1.559694e+12       0   \n",
       "\n",
       "     fea_hash  location   fea1_hash  cus_type  \n",
       "0  1672223856        57  3872258917       658  \n",
       "1  3767901757        23   129322164       943  \n",
       "2   454638703        30  4226678391       411  \n",
       "3  1507622951        65  3355419572       848  \n",
       "4  4116351093       148  2644467751       411  "
      ]
     },
     "execution_count": null,
     "metadata": {},
     "output_type": "execute_result"
    },
    {
     "name": "stdout",
     "output_type": "stream",
     "text": [
      "------------------------------------------------------------------------------------------------------------------------\n",
      "<class 'pandas.core.frame.DataFrame'>\n",
      "RangeIndex: 500000 entries, 0 to 499999\n",
      "Data columns (total 19 columns):\n",
      " #   Column      Non-Null Count   Dtype  \n",
      "---  ------      --------------   -----  \n",
      " 0   android_id  500000 non-null  int64  \n",
      " 1   apptype     500000 non-null  int64  \n",
      " 2   carrier     500000 non-null  float64\n",
      " 3   dev_height  500000 non-null  float64\n",
      " 4   dev_ppi     500000 non-null  float64\n",
      " 5   dev_width   500000 non-null  float64\n",
      " 6   lan         316720 non-null  object \n",
      " 7   media_id    500000 non-null  int64  \n",
      " 8   ntt         500000 non-null  float64\n",
      " 9   os          500000 non-null  object \n",
      " 10  osv         493439 non-null  object \n",
      " 11  package     500000 non-null  int64  \n",
      " 12  sid         500000 non-null  int64  \n",
      " 13  timestamp   500000 non-null  float64\n",
      " 14  version     500000 non-null  object \n",
      " 15  fea_hash    500000 non-null  object \n",
      " 16  location    500000 non-null  int64  \n",
      " 17  fea1_hash   500000 non-null  int64  \n",
      " 18  cus_type    500000 non-null  int64  \n",
      "dtypes: float64(6), int64(8), object(5)\n",
      "memory usage: 72.5+ MB\n",
      "------------------------------------------------------------------------------------------------------------------------\n"
     ]
    },
    {
     "data": {
      "text/plain": [
       "android_id    362258\n",
       "apptype           89\n",
       "carrier            5\n",
       "dev_height       798\n",
       "dev_ppi           92\n",
       "dev_width        346\n",
       "lan               21\n",
       "media_id         284\n",
       "ntt                8\n",
       "os                 2\n",
       "osv              154\n",
       "package         1950\n",
       "sid           500000\n",
       "timestamp     500000\n",
       "version           22\n",
       "fea_hash      402980\n",
       "location         332\n",
       "fea1_hash       4959\n",
       "cus_type          58\n",
       "dtype: int64"
      ]
     },
     "execution_count": null,
     "metadata": {},
     "output_type": "execute_result"
    },
    {
     "name": "stdout",
     "output_type": "stream",
     "text": [
      "------------------------------------------------------------------------------------------------------------------------\n"
     ]
    }
   ],
   "source": [
    "# 查看数据结构\r\n",
    "X.head()\r\n",
    "print('y.head()',\"------\"*20)\r\n",
    "y.head()\r\n",
    "print('X_test.head()',\"------\"*20)\r\n",
    "X_test.head()\r\n",
    "print(\"------\"*20)\r\n",
    "X.info()\r\n",
    "print(\"------\"*20)\r\n",
    "X.nunique()\r\n",
    "print(\"------\"*20)"
   ]
  },
  {
   "cell_type": "code",
   "execution_count": null,
   "metadata": {
    "collapsed": false
   },
   "outputs": [],
   "source": [
    "# 去除sid\r\n",
    "X = X.drop(['sid'], axis=1)\r\n",
    "X_test = X_test.drop(['sid'], axis=1)"
   ]
  },
  {
   "cell_type": "markdown",
   "metadata": {
    "collapsed": false
   },
   "source": [
    "**查看缺失字段**"
   ]
  },
  {
   "cell_type": "code",
   "execution_count": null,
   "metadata": {
    "collapsed": false
   },
   "outputs": [
    {
     "data": {
      "text/plain": [
       "Index(['lan', 'osv'], dtype='object')"
      ]
     },
     "execution_count": null,
     "metadata": {},
     "output_type": "execute_result"
    }
   ],
   "source": [
    "temp = X.isnull().sum()\r\n",
    "temp[temp > 0].index"
   ]
  },
  {
   "cell_type": "code",
   "execution_count": null,
   "metadata": {
    "collapsed": false
   },
   "outputs": [
    {
     "data": {
      "text/plain": [
       "0            CN\n",
       "1         zh-CN\n",
       "2           NaN\n",
       "3           NaN\n",
       "4         zh-CN\n",
       "          ...  \n",
       "149995    zh-CN\n",
       "149996    zh-CN\n",
       "149997    zh-CN\n",
       "149998    zh-CN\n",
       "149999    zh-CN\n",
       "Name: lan, Length: 150000, dtype: object"
      ]
     },
     "execution_count": null,
     "metadata": {},
     "output_type": "execute_result"
    }
   ],
   "source": [
    "#处理lan字段\r\n",
    "X['lan'].fillna('NaN', inplace=True)\r\n",
    "X_test['lan'].fillna('NaN', inplace=True)\r\n",
    "X_test['lan']"
   ]
  },
  {
   "cell_type": "code",
   "execution_count": null,
   "metadata": {
    "collapsed": false
   },
   "outputs": [],
   "source": [
    "# 处理osv\r\n",
    "# temp = X['osv'].groupby(X['osv']).count().reset_index(name='count')\r\n",
    "# print(temp[temp['count']>=50])\r\n",
    "# print(X[X['osv'].value_counts()>=50])\r\n",
    "# X.isna().sum()\r\n",
    "\r\n",
    "X['osv'].fillna('8.1.0', inplace=True)\r\n",
    "X_test['osv'].fillna('8.1.0', inplace=True)\r\n"
   ]
  },
  {
   "cell_type": "code",
   "execution_count": null,
   "metadata": {
    "collapsed": false
   },
   "outputs": [
    {
     "data": {
      "text/plain": [
       "Index(['lan', 'os', 'osv', 'version', 'fea_hash'], dtype='object')"
      ]
     },
     "execution_count": null,
     "metadata": {},
     "output_type": "execute_result"
    }
   ],
   "source": [
    "# X.info()\r\n",
    "X.select_dtypes(include='object').columns"
   ]
  },
  {
   "cell_type": "code",
   "execution_count": null,
   "metadata": {
    "collapsed": false
   },
   "outputs": [],
   "source": [
    "# 手动编码, 进行字典映射, 将相近类别放到一起\r\n",
    "lan_map = {'zh':1, 'ZH':2, 'zh-cn':3, 'zh-CN':4, 'zh_CN':5, 'Zh-CN':6, 'zh_CN_#Hans':7, 'cn':8, 'CN':9, 'zh-HK':10,\r\n",
    " 'zh-TW':11, 'tw':12, 'TW':13, 'zh-MO':14, 'en':15, 'en-US':16, 'en-GB':17, 'ko':18, 'it':19, 'ja':20, 'mi':21, 'NaN':22}\r\n",
    "X['lan'] = X['lan'].map(lan_map)\r\n",
    "X_test['lan'] = X_test['lan'].map(lan_map)"
   ]
  },
  {
   "cell_type": "code",
   "execution_count": null,
   "metadata": {
    "collapsed": false
   },
   "outputs": [],
   "source": [
    "# 映射处理\r\n",
    "X['os'] = X['os'].map(lambda x: 1 if x == 'Android' else 0)\r\n",
    "X_test['os'] = X_test['os'].map(lambda x: 1 if x == 'Android' else 0)"
   ]
  },
  {
   "cell_type": "code",
   "execution_count": null,
   "metadata": {
    "collapsed": false
   },
   "outputs": [
    {
     "data": {
      "text/plain": [
       "8.1.0                    157980\n",
       "9                         71332\n",
       "6.0.1                     31714\n",
       "7.1.1                     26503\n",
       "9.0.0                     24385\n",
       "                          ...  \n",
       "4                             1\n",
       "Android 4.2.9                 1\n",
       "2.0.1                         1\n",
       "5.1.1-F-20180719.9007         1\n",
       "2.2.2                         1\n",
       "Name: osv, Length: 154, dtype: int64"
      ]
     },
     "execution_count": null,
     "metadata": {},
     "output_type": "execute_result"
    },
    {
     "data": {
      "text/plain": [
       "['8.1.0',\n",
       " '9',\n",
       " '6.0.1',\n",
       " '7.1.1',\n",
       " '9.0.0',\n",
       " '6.0',\n",
       " '5.1',\n",
       " '8.1',\n",
       " '5.1.1',\n",
       " '8.0.0',\n",
       " '7.1.2',\n",
       " '4.4.4',\n",
       " '7.0',\n",
       " 'Android_8.1.0',\n",
       " 'Android_9',\n",
       " '5.0.2',\n",
       " '7.9.0',\n",
       " '7.9.2',\n",
       " '8.0',\n",
       " '7.1',\n",
       " '9.0',\n",
       " '3.8.6',\n",
       " '4.4.2',\n",
       " '6.0.0',\n",
       " '5.1.0',\n",
       " '4.1',\n",
       " '2.3',\n",
       " '5.0',\n",
       " '4.3',\n",
       " '7.0.0',\n",
       " 'Android_8.0.0',\n",
       " '4.4',\n",
       " 'Android_7.1.1',\n",
       " '3.9.0',\n",
       " 'Android_6.0.1',\n",
       " '7.8.9',\n",
       " '4.2.2',\n",
       " '7.8.7',\n",
       " '8.0.1',\n",
       " '5.0.1',\n",
       " 'Android_5.1.1',\n",
       " 'Android_7.1.2',\n",
       " '6.1',\n",
       " '7.8.0',\n",
       " '3.8.4',\n",
       " 'Android_5.1',\n",
       " '8',\n",
       " '4.1.2',\n",
       " 'Android_6.0',\n",
       " '5.0.0',\n",
       " '7.7.7',\n",
       " 'Android_7.0',\n",
       " '7.8.2',\n",
       " '3.8.0',\n",
       " '21100',\n",
       " '7.7.3',\n",
       " 'Android_4.4.4',\n",
       " '7.2.1',\n",
       " '4.3.0',\n",
       " '7',\n",
       " '4.2.1',\n",
       " '7.7.5',\n",
       " '6.1.0',\n",
       " '5.2',\n",
       " '7.8.4',\n",
       " '7.8.5',\n",
       " '7.7.2',\n",
       " '21000',\n",
       " '5',\n",
       " '4.1.1',\n",
       " '7.6.7',\n",
       " '7.7.0',\n",
       " '3.8.3',\n",
       " '6.0_23',\n",
       " '7.6.8',\n",
       " '3.7.6',\n",
       " '7.6.4',\n",
       " '7.8.8',\n",
       " 'Android_5.0.2',\n",
       " '9.0.5',\n",
       " '3.7.8',\n",
       " '7.1.3',\n",
       " '7.7.4',\n",
       " '7.1.0',\n",
       " '7.6.9',\n",
       " '4.0.3',\n",
       " '4.0.4',\n",
       " '4.2',\n",
       " 'Android_5.0',\n",
       " '4.4.5',\n",
       " '7.8.6',\n",
       " '6.2.1',\n",
       " 'Android_4.4.2',\n",
       " '3.1.1',\n",
       " '4.4.3',\n",
       " 'Android_4.3',\n",
       " '6.0.1_19',\n",
       " '4.4.0',\n",
       " '3.0.3',\n",
       " '2.3.6',\n",
       " '2.1.2',\n",
       " '6.1.2',\n",
       " '7930',\n",
       " '2.3.4',\n",
       " 'Android_4.1.2',\n",
       " '2.2.3',\n",
       " '6',\n",
       " '7.3.1',\n",
       " '4.4W',\n",
       " '2.3.5',\n",
       " '3.2',\n",
       " '4.3.3',\n",
       " '5.1_22',\n",
       " '4.4.2_19',\n",
       " '5.3.0-FL2-20180717.9010',\n",
       " 'Android_4.2.2',\n",
       " '7.6.6',\n",
       " '71200',\n",
       " '5.2.0',\n",
       " '7910',\n",
       " '5.3',\n",
       " '4.3.1',\n",
       " '4.0.2',\n",
       " '4.0',\n",
       " '4.2.3.2',\n",
       " '8.0.2',\n",
       " '5.0.3',\n",
       " '2.3.7',\n",
       " 'f073b_changxiang_v01_b1b8_20180915',\n",
       " 'Android_5.0.1',\n",
       " '5.0_21',\n",
       " '%E6%B1%9F%E7%81%B5OS+5.0',\n",
       " '9.1',\n",
       " '7920',\n",
       " '10.3.3',\n",
       " 'Android_4.4.3',\n",
       " '3.2.0-FL2-20180726.9015',\n",
       " 'Android_4.2.1',\n",
       " 'Android 7.1',\n",
       " '6.1.0-RS-20190305.1125',\n",
       " '5.3.0',\n",
       " '5.1.1_22',\n",
       " '6.0 十核2.0G_HD',\n",
       " '2.9.2',\n",
       " 'Android 4.3.1',\n",
       " '11',\n",
       " 'Android 5.12',\n",
       " '9.1.0',\n",
       " '6.0.2',\n",
       " '4',\n",
       " 'Android 4.2.9',\n",
       " '2.0.1',\n",
       " '5.1.1-F-20180719.9007',\n",
       " '2.2.2']"
      ]
     },
     "execution_count": null,
     "metadata": {},
     "output_type": "execute_result"
    }
   ],
   "source": [
    "X['osv'].value_counts()\n",
    "X['osv'].value_counts().index.tolist()"
   ]
  },
  {
   "cell_type": "code",
   "execution_count": null,
   "metadata": {
    "collapsed": false
   },
   "outputs": [],
   "source": [
    "# 特征转换\r\n",
    "def osv_trans(x):\r\n",
    "    x = str(x)\r\n",
    "    x = x.replace('Android_', '').replace('Android ', '').replace('W', '')\r\n",
    "    if x.find('.') > 0: \r\n",
    "        temp_index1 = x.find('.')\r\n",
    "        temp_index2 = len(x)\r\n",
    "        if x.find(' ') > 0: temp_index2 = x.find(' ')\r\n",
    "        if x.find('-') > 0: temp_index2 = x.find('-') if x.find('-') < temp_index2 else temp_index2\r\n",
    "        x = x[:temp_index1]+'.'+x[temp_index1:temp_index2].replace('.','')\r\n",
    "    try: return float(x)\r\n",
    "    except: return 0\r\n",
    "\r\n",
    "\r\n",
    "X['osv'] = X['osv'].apply(osv_trans)\r\n",
    "X_test['osv'] = X_test['osv'].apply(osv_trans)"
   ]
  },
  {
   "cell_type": "code",
   "execution_count": null,
   "metadata": {
    "collapsed": false
   },
   "outputs": [
    {
     "data": {
      "text/plain": [
       "Float64Index([   7.77,    7.21,    7.75,    7.85,    7.87,     3.8,    7.67,\n",
       "                  3.9,     2.3,    8.01,     7.9,    7.64,    3.84,    7.89,\n",
       "              21100.0,    7.92,     4.1,    7.72,    7.82,     7.8,    3.86,\n",
       "                  7.7,    7.84,    7.68, 21000.0,    7.86,    7.73,     6.1,\n",
       "                 3.83,    3.78,    7.74],\n",
       "             dtype='float64')"
      ]
     },
     "execution_count": null,
     "metadata": {},
     "output_type": "execute_result"
    }
   ],
   "source": [
    "# 欺诈正常比\r\n",
    "temp = pd.DataFrame(columns=[0,1])\r\n",
    "# 所有正常的数据\r\n",
    "temp0 = X[y==0]\r\n",
    "temp[0] = temp0['osv'].value_counts() / len(temp0) # 在正常的里面, 每个版本所占的百分比\r\n",
    "# 所有异常的数据\r\n",
    "temp1 = X[y==1]\r\n",
    "temp[1] = temp1['osv'].value_counts() / len(temp1)\r\n",
    "\r\n",
    "\r\n",
    "# 构造特征比, 选择出主要特征,其余非主要特征归零。\r\n",
    "temp[2] = temp[1] / temp[0]\r\n",
    "key_features = temp[temp[2]>10].sort_values(2, ascending=False).index\r\n",
    "key_features\r\n",
    "X['osv_is_key_feature'] = X['osv'].apply(lambda x: 1 if x in key_features else 0)\r\n",
    "X_test['osv_is_key_feature'] = X_test['osv'].apply(lambda x: 1 if x in key_features else 0)"
   ]
  },
  {
   "cell_type": "code",
   "execution_count": null,
   "metadata": {
    "collapsed": false
   },
   "outputs": [],
   "source": [
    "def version_trans(x):\r\n",
    "    if x == 'V3' or x == 'GA3': return 3\r\n",
    "    elif x == 'v1': return 1\r\n",
    "    elif x == 'P_Final_6' or x == 'V6': return 6\r\n",
    "    elif x == 'GA2' or x == 'V2': return 2\r\n",
    "    else: return int(x)\r\n",
    "X['version'] = X['version'].apply(version_trans)\r\n",
    "X_test['version'] = X_test['version'].apply(version_trans)"
   ]
  },
  {
   "cell_type": "code",
   "execution_count": null,
   "metadata": {
    "collapsed": false
   },
   "outputs": [],
   "source": [
    "X['osv_version'] = X['osv'] - X['version']\r\n",
    "X_test['osv_version'] = X_test['osv'] - X_test['version']"
   ]
  },
  {
   "cell_type": "code",
   "execution_count": null,
   "metadata": {
    "collapsed": false
   },
   "outputs": [],
   "source": [
    "X['fea_hash'] = X['fea_hash'].map(lambda x: len(str(x)))\r\n",
    "X_test['fea_hash'] = X_test['fea_hash'].map(lambda x: len(str(x)))\r\n",
    "X['fea_hash_len'] = X['fea_hash'].apply(lambda x: x if x <= 10 else 0)\r\n",
    "X_test['fea_hash_len'] = X_test['fea_hash'].apply(lambda x: x if x <= 10 else 0)"
   ]
  },
  {
   "cell_type": "code",
   "execution_count": null,
   "metadata": {
    "collapsed": false
   },
   "outputs": [],
   "source": [
    "X['fea1_hash'] = X['fea1_hash'].map(lambda x: len(str(x)))\r\n",
    "X_test['fea1_hash'] = X_test['fea1_hash'].map(lambda x: len(str(x)))\r\n",
    "X['fea1_hash_len'] = X['fea1_hash'].apply(lambda x: x if x <= 10 else 0)\r\n",
    "X_test['fea1_hash_len'] = X_test['fea1_hash'].apply(lambda x: x if x <= 10 else 0)"
   ]
  },
  {
   "cell_type": "code",
   "execution_count": null,
   "metadata": {
    "collapsed": false
   },
   "outputs": [],
   "source": [
    "# 构造面积特征\r\n",
    "X['area'] = X['dev_height'] * X['dev_width']\r\n",
    "X_test['area'] = X_test['dev_height'] * X_test['dev_width']\r\n",
    "# 构造高宽比\r\n",
    "X['height_width'] = X['dev_height'] / X['dev_width']\r\n",
    "X['height_width'].fillna(0, inplace=True)\r\n",
    "X_test['height_width'] = X_test['dev_height'] / X_test['dev_width']\r\n",
    "X_test['height_width'].fillna(0, inplace=True)\r\n",
    "# 像素点数\r\n",
    "X['pix'] = X['dev_ppi'] * X['area']\r\n",
    "X_test['pix'] = X_test['dev_ppi'] * X_test['area']"
   ]
  },
  {
   "cell_type": "code",
   "execution_count": null,
   "metadata": {
    "collapsed": false
   },
   "outputs": [],
   "source": [
    "from datetime import datetime\r\n",
    "X['timestamp'] = X['timestamp'].apply(lambda x: datetime.fromtimestamp(x / 1000))\r\n",
    "X_test['timestamp'] = X_test['timestamp'].apply(lambda x: datetime.fromtimestamp(x / 1000))"
   ]
  },
  {
   "cell_type": "code",
   "execution_count": null,
   "metadata": {
    "collapsed": false
   },
   "outputs": [],
   "source": [
    "temp = pd.DatetimeIndex(X['timestamp'])\r\n",
    "X['year'] = temp.year\r\n",
    "X['month'] = temp.month\r\n",
    "X['day'] = temp.day\r\n",
    "X['week_day'] = temp.weekday\r\n",
    "X['hour'] = temp.hour\r\n",
    "X['minute'] = temp.minute\r\n",
    "\r\n",
    "start_time = X['timestamp'].min()\r\n",
    "X['time_diff'] = X['timestamp'] - start_time\r\n",
    "X['time_diff'] = X['time_diff'].dt.days + X['time_diff'].dt.seconds/3600/24\r\n",
    "\r\n",
    "temp = pd.DatetimeIndex(X_test['timestamp'])\r\n",
    "X_test['year'] = temp.year\r\n",
    "X_test['month'] = temp.month\r\n",
    "X_test['day'] = temp.day\r\n",
    "X_test['week_day'] = temp.weekday\r\n",
    "X_test['hour'] = temp.hour\r\n",
    "X_test['minute'] = temp.minute\r\n",
    "\r\n",
    "X_test['time_diff'] = X_test['timestamp'] - start_time\r\n",
    "X_test['time_diff'] = X_test['time_diff'].dt.days + X_test['time_diff'].dt.seconds/3600/24\r\n",
    "\r\n",
    "X = X.drop(['timestamp'], axis=1)\r\n",
    "X_test = X_test.drop(['timestamp'], axis=1)"
   ]
  },
  {
   "cell_type": "code",
   "execution_count": null,
   "metadata": {
    "collapsed": false
   },
   "outputs": [],
   "source": [
    "# 使用lgb构造baselight\r\n",
    "# model = lgb.LGBMClassifier(num_leaves=2**5-1,\r\n",
    "#                            reg_alpha=0.25,\r\n",
    "#                            reg_lambda=0.25,\r\n",
    "#                            objective='binary',\r\n",
    "#                            max_depth=-1, \r\n",
    "#                            learning_rate=0.005,\r\n",
    "#                            min_child_samples=3, \r\n",
    "#                            random_state=2021,\r\n",
    "#                            n_estimators=10000,\r\n",
    "#                            subsample=1, \r\n",
    "#                            colsample_bytree=1)\r\n",
    "# %time model.fit(X,y)\r\n",
    "# res = pd.DataFrame(test['sid'])\r\n",
    "# res['label'] = model.predict(X_test)\r\n",
    "# res"
   ]
  },
  {
   "cell_type": "code",
   "execution_count": 34,
   "metadata": {
    "collapsed": false
   },
   "outputs": [],
   "source": [
    "# max_depth=10, learning_rate=0.005, n_estimators=5800,objective='binary:logistic', tree_method='exact',subsample=0.8, colsample_bytree=0.8,\r\n",
    "# min_child_weight=3, eval_metric='auc', reg_lambda=0.5 ------> 0.89176\r\n",
    "# model_xgb = xgb.XGBClassifier(\r\n",
    "#                 max_depth=10, learning_rate=0.005, n_estimators=5300,\r\n",
    "#                 objective='binary:logistic', tree_method='gpu_hist',\r\n",
    "#                 subsample=0.8, colsample_bytree=0.8,\r\n",
    "#                 min_child_weight=3, eval_metric='auc', reg_lambda=0.5)\r\n",
    "# %time model_xgb.fit(X,y)\r\n",
    "\r\n",
    "\r\n",
    "# max_depth=10, learning_rate=0.005, n_estimators=5800,objective='binary:logistic', tree_method='exact',subsample=0.8, colsample_bytree=0.8,\r\n",
    "# min_child_weight=3, eval_metric='auc', reg_lambda=0.5 ------> 0.891773\r\n",
    "\r\n",
    "# tree_method 选择exact 会比 gpu_hist 时间长换正确率\r\n",
    "model_xgb1 = xgb.XGBClassifier(\r\n",
    "                max_depth=10, learning_rate=0.005, n_estimators=5800,\r\n",
    "                objective='binary:logistic', tree_method='exact',\r\n",
    "                subsample=0.8, colsample_bytree=0.8,\r\n",
    "                min_child_weight=3, eval_metric='auc', reg_lambda=0.5)\r\n",
    "# %time model_xgb1.fit(X,y)\r\n",
    "\r\n",
    "# 多折交叉验证 ensemble model\r\n",
    "def xgb_model(clf, X, y, X_test, n_splits):\r\n",
    "    # 分层K折验证\r\n",
    "    skf = StratifiedKFold(n_splits=n_splits, random_state=2021, shuffle=True)\r\n",
    "    mean_acc = 0\r\n",
    "    acc_sum = 0\r\n",
    "    prob = []\r\n",
    "    for k, (train_index, val_index) in enumerate(skf.split(X, y)):\r\n",
    "        # 获取训练集和验证集\r\n",
    "        train_x = X.iloc[train_index]\r\n",
    "        train_y = y.iloc[train_index]\r\n",
    "        val_x = X.iloc[val_index]\r\n",
    "        val_y = y.iloc[val_index]\r\n",
    "        # 开始训练\r\n",
    "        clf = clf.fit(train_x, train_y)\r\n",
    "        # 开始验证\r\n",
    "        val_y_pred = clf.predict(val_x)\r\n",
    "        acc_val = accuracy_score(val_y, val_y_pred)\r\n",
    "        acc_sum += acc_val\r\n",
    "        mean_acc_temp = acc_sum / (k+1)\r\n",
    "        print(f'第 {k+1} 个子模型, accuracy = {acc_val}, mean_acc = {mean_acc_temp}')\r\n",
    "        mean_acc += acc_val / n_splits\r\n",
    "        # 开始测试\r\n",
    "        y_test_pred = clf.predict_proba(X_test)\r\n",
    "        prob.append(y_test_pred)\r\n",
    "    mean_prob = sum(prob) / n_splits\r\n",
    "    return mean_acc, mean_prob\r\n",
    "\r\n",
    "# 十折交叉验证\r\n",
    "acc, result = xgb_model(model_xgb1, X, y, X_test, 10)\r\n",
    "acc\r\n",
    "result\r\n",
    "res = pd.DataFrame(test['sid'])\r\n",
    "res['label'] = np.where(result[:,1] > 0.5, 1, 0)\r\n",
    "res\r\n",
    "res.to_csv('./result/xgb1_10_5300.csv', index=False)"
   ]
  },
  {
   "cell_type": "code",
   "execution_count": null,
   "metadata": {
    "collapsed": false
   },
   "outputs": [],
   "source": [
    "#尝试提取 0,6测试结果发现过拟合,舍弃\n",
    "def xgb_model_0_6(clf, X, y, X_test, n_splits):\n",
    "    # 分层K折验证\n",
    "    skf = StratifiedKFold(n_splits=n_splits, random_state=2021, shuffle=True)\n",
    "    mean_acc = 0\n",
    "    acc_sum = 0\n",
    "    prob = []\n",
    "    # for k, (train_index, val_index) in enumerate(skf.split(X, y)):\n",
    "    #     train_sets = []\n",
    "    #     if k == 0 or k == 6:\n",
    "    #         train_sets.append((train_index, val_index))\n",
    "    for k, (train_index, val_index) in enumerate([list(skf.split(X,y))[0],list(skf.split(X,y))[6]]):\n",
    "        # 获取训练集和验证集\n",
    "        train_x = X.iloc[train_index]\n",
    "        train_y = y.iloc[train_index]\n",
    "        val_x = X.iloc[val_index]\n",
    "        val_y = y.iloc[val_index]\n",
    "        # 开始训练\n",
    "        clf = clf.fit(train_x, train_y)\n",
    "        # 开始验证\n",
    "        val_y_pred = clf.predict(val_x)\n",
    "        acc_val = accuracy_score(val_y, val_y_pred)\n",
    "        acc_sum += acc_val\n",
    "        mean_acc_temp = acc_sum / (k+1)\n",
    "        print(f'第 {k+1} 个子模型, accuracy = {acc_val}, mean_acc = {mean_acc_temp}',end='\\n')\n",
    "        mean_acc += acc_val / 2\n",
    "        # 开始测试\n",
    "        y_test_pred = clf.predict_proba(X_test)\n",
    "        prob.append(y_test_pred)\n",
    "    mean_prob = sum(prob) / 2\n",
    "    return mean_acc, mean_prob\n",
    "\n",
    "# acc, result = xgb_model_0_6(model_xgb, X, y, X_test, 10)\n",
    "# acc\n",
    "# result\n",
    "# res = pd.DataFrame(test['sid'])\n",
    "# res['label'] = np.where(result[:,1] > 0.5, 1, 0)\n",
    "# res\n",
    "# res.to_csv('./result/xgb_0_6.csv', index=False)"
   ]
  },
  {
   "cell_type": "markdown",
   "metadata": {
    "collapsed": false
   },
   "source": [
    "CPU times: user 2min 4s, sys: 18.6 s, total: 2min 22s\n",
    "Wall time: 2min 22s\n",
    "XGBClassifier(base_score=0.5, booster='gbtree', colsample_bylevel=1,\n",
    "              colsample_bynode=1, colsample_bytree=0.8, eval_metric='auc',\n",
    "              gamma=0, gpu_id=0, importance_type='gain',\n",
    "              interaction_constraints='', learning_rate=0.005, max_delta_step=0,\n",
    "              max_depth=10, min_child_weight=3, missing=nan,\n",
    "              monotone_constraints='()', n_estimators=5300, n_jobs=24,\n",
    "              num_parallel_tree=1, random_state=0, reg_alpha=0, reg_lambda=0.5,\n",
    "              scale_pos_weight=1, subsample=0.8, tree_method='gpu_hist',\n",
    "              validate_parameters=1, verbosity=None)\n",
    "第 1 个子模型, accuracy = 0.89284, mean_acc = 0.89284\n",
    "第 2 个子模型, accuracy = 0.8913, mean_acc = 0.8920699999999999\n",
    "第 3 个子模型, accuracy = 0.8911, mean_acc = 0.8917466666666666\n",
    "第 4 个子模型, accuracy = 0.89176, mean_acc = 0.8917499999999999\n",
    "第 5 个子模型, accuracy = 0.89096, mean_acc = 0.8915919999999999\n",
    "第 6 个子模型, accuracy = 0.89282, mean_acc = 0.8917966666666667\n",
    "第 7 个子模型, accuracy = 0.8932, mean_acc = 0.8919971428571429\n",
    "第 8 个子模型, accuracy = 0.88998, mean_acc = 0.891745\n",
    "第 9 个子模型, accuracy = 0.89084, mean_acc = 0.8916444444444446\n",
    "第 10 个子模型, accuracy = 0.89268, mean_acc = 0.8917480000000001"
   ]
  },
  {
   "cell_type": "markdown",
   "metadata": {
    "collapsed": false
   },
   "source": [
    "请点击[此处](https://ai.baidu.com/docs#/AIStudio_Project_Notebook/a38e5576)查看本环境基本用法.  <br>\n",
    "Please click [here ](https://ai.baidu.com/docs#/AIStudio_Project_Notebook/a38e5576) for more detailed instructions. "
   ]
  }
 ],
 "metadata": {
  "kernelspec": {
   "display_name": "PaddlePaddle 2.1.2 (Python 3.5)",
   "language": "python",
   "name": "py35-paddle1.2.0"
  },
  "language_info": {
   "codemirror_mode": {
    "name": "ipython",
    "version": 3
   },
   "file_extension": ".py",
   "mimetype": "text/x-python",
   "name": "python",
   "nbconvert_exporter": "python",
   "pygments_lexer": "ipython3",
   "version": "3.7.4"
  }
 },
 "nbformat": 4,
 "nbformat_minor": 1
}
